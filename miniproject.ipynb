{
 "cells": [
  {
   "cell_type": "code",
   "execution_count": 10,
   "id": "55e7d749",
   "metadata": {},
   "outputs": [
    {
     "data": {
      "application/vnd.jupyter.widget-view+json": {
       "model_id": "41debf67e8744ab58fe104b126445394",
       "version_major": 2,
       "version_minor": 0
      },
      "text/plain": [
       "HTML(value=\"<h1>Stock Breakout Analyzer</h1><p>Enter parameters and click 'Generate Report'.</p>\")"
      ]
     },
     "metadata": {},
     "output_type": "display_data"
    },
    {
     "data": {
      "application/vnd.jupyter.widget-view+json": {
       "model_id": "cca0d7a07b43492bae762a377c968c0e",
       "version_major": 2,
       "version_minor": 0
      },
      "text/plain": [
       "Text(value='AAPL', description='Ticker:')"
      ]
     },
     "metadata": {},
     "output_type": "display_data"
    },
    {
     "data": {
      "application/vnd.jupyter.widget-view+json": {
       "model_id": "806a92d12c704b4bb217e8210378889d",
       "version_major": 2,
       "version_minor": 0
      },
      "text/plain": [
       "DatePicker(value=datetime.date(2020, 1, 1), description='Start Date:')"
      ]
     },
     "metadata": {},
     "output_type": "display_data"
    },
    {
     "data": {
      "application/vnd.jupyter.widget-view+json": {
       "model_id": "5941f625ed9944aebcd9deb9a7b50aa1",
       "version_major": 2,
       "version_minor": 0
      },
      "text/plain": [
       "DatePicker(value=datetime.date(2021, 1, 1), description='End Date:')"
      ]
     },
     "metadata": {},
     "output_type": "display_data"
    },
    {
     "data": {
      "application/vnd.jupyter.widget-view+json": {
       "model_id": "ebe8eddac4df46fbb2bf1909d85759ff",
       "version_major": 2,
       "version_minor": 0
      },
      "text/plain": [
       "FloatText(value=200.0, description='Volume Threshold (%)')"
      ]
     },
     "metadata": {},
     "output_type": "display_data"
    },
    {
     "data": {
      "application/vnd.jupyter.widget-view+json": {
       "model_id": "91e6c8313ccc4715b05fb9517d6031d0",
       "version_major": 2,
       "version_minor": 0
      },
      "text/plain": [
       "FloatText(value=2.0, description='Daily Change (%)')"
      ]
     },
     "metadata": {},
     "output_type": "display_data"
    },
    {
     "data": {
      "application/vnd.jupyter.widget-view+json": {
       "model_id": "25d89fd0d1c14a1797dc826651dc4e72",
       "version_major": 2,
       "version_minor": 0
      },
      "text/plain": [
       "IntText(value=10, description='Holding Period (days)')"
      ]
     },
     "metadata": {},
     "output_type": "display_data"
    },
    {
     "data": {
      "application/vnd.jupyter.widget-view+json": {
       "model_id": "1de23be424314fb19c7e1b3f4e5d3084",
       "version_major": 2,
       "version_minor": 0
      },
      "text/plain": [
       "Button(button_style='success', description='Generate Report', style=ButtonStyle())"
      ]
     },
     "metadata": {},
     "output_type": "display_data"
    },
    {
     "data": {
      "application/vnd.jupyter.widget-view+json": {
       "model_id": "6c88c8118e324e9cbb54a3fa253ee05a",
       "version_major": 2,
       "version_minor": 0
      },
      "text/plain": [
       "Output()"
      ]
     },
     "metadata": {},
     "output_type": "display_data"
    }
   ],
   "source": [
    "import pandas as pd\n",
    "import yfinance as yf\n",
    "import datetime\n",
    "from IPython.display import display, clear_output\n",
    "import ipywidgets as widgets\n",
    "\n",
    "def backtest_breakout_strategy(X, Y, Z, ticker=\"AAPL\", start_date=\"2020-01-01\", end_date=\"2021-01-01\"):\n",
    "    # Download historical data\n",
    "    df = yf.download(ticker, start=start_date, end=end_date)\n",
    "\n",
    "    # Print diagnostic info\n",
    "    print(\"Downloaded DataFrame:\")\n",
    "    print(df.head())\n",
    "    print(\"DataFrame shape:\", df.shape)\n",
    "    \n",
    "    # If df is empty\n",
    "    if df.empty:\n",
    "        return pd.DataFrame()\n",
    "    \n",
    "    # Ensure the expected columns are present\n",
    "    expected_cols = {'Open', 'High', 'Low', 'Close', 'Adj Close', 'Volume'}\n",
    "    if not expected_cols.issubset(df.columns):\n",
    "        # No valid data\n",
    "        return pd.DataFrame()\n",
    "    \n",
    "    # Check at least 20 rows for rolling calculation\n",
    "    if len(df) < 20:\n",
    "        return pd.DataFrame()\n",
    "\n",
    "    # Compute 20-day average volume\n",
    "    df['20d_avg_volume'] = df['Volume'].rolling(window=20).mean()\n",
    "\n",
    "    # Drop rows without full 20-day average volume\n",
    "    if '20d_avg_volume' not in df.columns:\n",
    "        return pd.DataFrame()\n",
    "    df = df.dropna(subset=['20d_avg_volume'])\n",
    "\n",
    "    # Check again if we have at least 20 rows\n",
    "    if df.empty or len(df) < 20:\n",
    "        return pd.DataFrame()\n",
    "\n",
    "    # Previous day's close\n",
    "    df['Prev_Close'] = df['Close'].shift(1)\n",
    "    df = df.dropna(subset=['Prev_Close'])\n",
    "\n",
    "    if df.empty:\n",
    "        return pd.DataFrame()\n",
    "\n",
    "    # Convert X% to a multiplier\n",
    "    volume_multiplier = 1 + (X / 100.0)\n",
    "\n",
    "    # Identify conditions\n",
    "    df['Volume_Breakout'] = df['Volume'] > (df['20d_avg_volume'] * volume_multiplier)\n",
    "    df['Price_Change'] = (df['Close'] / df['Prev_Close']) - 1\n",
    "    df['Price_Breakout'] = df['Price_Change'] >= (Y / 100.0)\n",
    "    df['Breakout'] = df['Volume_Breakout'] & df['Price_Breakout']\n",
    "\n",
    "    breakout_days = df[df['Breakout']].index\n",
    "    results = []\n",
    "\n",
    "    for d in breakout_days:\n",
    "        idx = df.index.get_loc(d)\n",
    "        sell_idx = idx + Z\n",
    "        if sell_idx < len(df):\n",
    "            buy_date = d\n",
    "            sell_date = df.index[sell_idx]\n",
    "            buy_price = df.loc[buy_date, 'Close']\n",
    "            sell_price = df.loc[sell_date, 'Close']\n",
    "            ret = (sell_price - buy_price) / buy_price * 100.0\n",
    "            results.append({\n",
    "                'Buy_Date': buy_date,\n",
    "                'Buy_Price': buy_price,\n",
    "                'Sell_Date': sell_date,\n",
    "                'Sell_Price': sell_price,\n",
    "                'Return_%': ret\n",
    "            })\n",
    "\n",
    "    results_df = pd.DataFrame(results)\n",
    "    results_df.to_csv(\"breakout_results.csv\", index=False)\n",
    "    return results_df\n",
    "\n",
    "# Create input widgets\n",
    "ticker_widget = widgets.Text(value='AAPL', description='Ticker:')\n",
    "start_date_widget = widgets.DatePicker(value=datetime.date(2020,1,1), description='Start Date:')\n",
    "end_date_widget = widgets.DatePicker(value=datetime.date(2021,1,1), description='End Date:')\n",
    "volume_threshold_widget = widgets.FloatText(value=200.0, description='Volume Threshold (%)')\n",
    "daily_change_threshold_widget = widgets.FloatText(value=2.0, description='Daily Change (%)')\n",
    "holding_period_widget = widgets.IntText(value=10, description='Holding Period (days)')\n",
    "\n",
    "run_button = widgets.Button(description='Generate Report', button_style='success')\n",
    "output = widgets.Output()\n",
    "\n",
    "def on_button_click(b):\n",
    "    with output:\n",
    "        clear_output()\n",
    "        X = volume_threshold_widget.value\n",
    "        Y = daily_change_threshold_widget.value\n",
    "        Z = holding_period_widget.value\n",
    "        ticker = ticker_widget.value\n",
    "        start_date_str = start_date_widget.value.strftime(\"%Y-%m-%d\")\n",
    "        end_date_str = end_date_widget.value.strftime(\"%Y-%m-%d\")\n",
    "\n",
    "        results_df = backtest_breakout_strategy(X, Y, Z, ticker=ticker, start_date=start_date_str, end_date=end_date_str)\n",
    "\n",
    "        if not results_df.empty:\n",
    "            display(results_df)\n",
    "            avg_return = results_df['Return_%'].mean()\n",
    "            median_return = results_df['Return_%'].median()\n",
    "            max_return = results_df['Return_%'].max()\n",
    "            min_return = results_df['Return_%'].min()\n",
    "            total_trades = len(results_df)\n",
    "\n",
    "            print(\"Summary Statistics:\")\n",
    "            print(f\"Total Trades: {total_trades}\")\n",
    "            print(f\"Average Return: {avg_return:.2f}%\")\n",
    "            print(f\"Median Return: {median_return:.2f}%\")\n",
    "            print(f\"Max Return: {max_return:.2f}%\")\n",
    "            print(f\"Min Return: {min_return:.2f}%\")\n",
    "            print(\"CSV saved as breakout_results.csv.\")\n",
    "        else:\n",
    "            print(\"No trades found or insufficient data for the given criteria.\")\n",
    "\n",
    "run_button.on_click(on_button_click)\n",
    "\n",
    "display(widgets.HTML(\"<h1>Stock Breakout Analyzer</h1><p>Enter parameters and click 'Generate Report'.</p>\"))\n",
    "display(ticker_widget, start_date_widget, end_date_widget, volume_threshold_widget, daily_change_threshold_widget, holding_period_widget, run_button, output)\n"
   ]
  }
 ],
 "metadata": {
  "kernelspec": {
   "display_name": "Python 3 (ipykernel)",
   "language": "python",
   "name": "python3"
  },
  "language_info": {
   "codemirror_mode": {
    "name": "ipython",
    "version": 3
   },
   "file_extension": ".py",
   "mimetype": "text/x-python",
   "name": "python",
   "nbconvert_exporter": "python",
   "pygments_lexer": "ipython3",
   "version": "3.12.7"
  }
 },
 "nbformat": 4,
 "nbformat_minor": 5
}
